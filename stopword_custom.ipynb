{
 "cells": [
  {
   "cell_type": "code",
   "execution_count": 5,
   "metadata": {
    "collapsed": true
   },
   "outputs": [],
   "source": [
    "import wikipedia as wiki\n",
    "from nltk.tokenize import word_tokenize\n",
    "\n",
    "def removeStopWordsWiki(wikiSummary):\n",
    "\n",
    "    wikiSummaryText = wiki.summary(wikiSummary)\n",
    "    tokWordWiki = word_tokenize(wikiSummaryText)\n",
    "\n",
    "    wiki_stopwords = ['a', 'and', 'are', 'as', 'be','for', 'have',\n",
    "                      'in', 'is', 'of', 'or', 'that','the', 'to', 'was']\n",
    "    \n",
    "    wikiSummary_noSW = list()\n",
    "\n",
    "    for i in range(0,len(tokWordWiki)):\n",
    "\n",
    "        if tokWordWiki[i].lower() in wiki_stopwords:   # remember to make lower! \n",
    "            pass\n",
    "        else:\n",
    "            wikiSummary_noSW.append(tokWordWiki[i])\n",
    "\n",
    "    return wikiSummary_noSW"
   ]
  },
  {
   "cell_type": "code",
   "execution_count": 8,
   "metadata": {},
   "outputs": [
    {
     "name": "stdout",
     "output_type": "stream",
     "text": [
      "[\"''\", 'सनातनवाद्यांनी', 'व', 'प्रतिगाम्यांनी', 'समाज', ...]\n",
      "[[\"''\", 'सनातनवाद्यांनी', 'व', 'प्रतिगाम्यांनी', 'समाज', 'रसातळाला', 'नेला', 'असताना', 'या', 'अंधारात', 'बाळशास्त्री', 'जांभेकर', 'यांनी', \"'दर्पण'च्या\", 'माध्यमातून', 'पहिली', 'ज्ञानज्योत', 'तेववली', ',', \"''\", 'असे', 'प्रतिपादन', 'नटसम्राट', 'प्रभाकर', 'पणशीकर', 'यांनी', 'केले', '.'], ['दर्पणकार', 'बाळशास्त्री', 'जांभेकर', 'यांच्या', '१९५व्या', 'जयंतीनिमित्त', 'महाराष्ट्र', 'संपादक', 'परिषद', 'व', 'सिंधुदुर्ग', 'जिल्हा', 'मराठी', 'पत्रकार', 'संघाच्या', 'वतीने', 'तसेच', 'महाराष्ट्र', 'जर्नलिस्ट', 'फाउंडेशन', 'व', 'महाराष्ट्र', 'ग्रामीण', 'पत्रकार', 'संघाच्या', 'सहभागाने', 'अभिवादन', 'कार्यक्रम', 'आयोजित', 'केला', 'होता', '.'], ...]\n"
     ]
    }
   ],
   "source": [
    "import nltk\n",
    "from nltk.corpus import indian\n",
    "print(nltk.corpus.indian.words('marathi.pos'))\n",
    "marathi_words = indian.sents('marathi.pos')\n",
    "print(marathi_words)"
   ]
  },
  {
   "cell_type": "code",
   "execution_count": 21,
   "metadata": {},
   "outputs": [
    {
     "data": {
      "text/plain": [
       "2556"
      ]
     },
     "execution_count": 21,
     "metadata": {},
     "output_type": "execute_result"
    }
   ],
   "source": [
    "len(wiki.summary('India'))"
   ]
  },
  {
   "cell_type": "code",
   "execution_count": 2,
   "metadata": {},
   "outputs": [
    {
     "ename": "NameError",
     "evalue": "name 'removeStopWordsWiki' is not defined",
     "output_type": "error",
     "traceback": [
      "\u001b[1;31m---------------------------------------------------------------------------\u001b[0m",
      "\u001b[1;31mNameError\u001b[0m                                 Traceback (most recent call last)",
      "\u001b[1;32m<ipython-input-2-89f66f3e386a>\u001b[0m in \u001b[0;36m<module>\u001b[1;34m()\u001b[0m\n\u001b[1;32m----> 1\u001b[1;33m \u001b[0mrem_stop\u001b[0m \u001b[1;33m=\u001b[0m \u001b[0mremoveStopWordsWiki\u001b[0m\u001b[1;33m(\u001b[0m\u001b[1;34m'India'\u001b[0m\u001b[1;33m)\u001b[0m\u001b[1;33m\u001b[0m\u001b[0m\n\u001b[0m\u001b[0;32m      2\u001b[0m \u001b[0mlen\u001b[0m\u001b[1;33m(\u001b[0m\u001b[0mrem_stop\u001b[0m\u001b[1;33m)\u001b[0m\u001b[1;33m\u001b[0m\u001b[0m\n",
      "\u001b[1;31mNameError\u001b[0m: name 'removeStopWordsWiki' is not defined"
     ]
    }
   ],
   "source": [
    "rem_stop = removeStopWordsWiki('India')\n",
    "len(rem_stop)"
   ]
  },
  {
   "cell_type": "code",
   "execution_count": 4,
   "metadata": {},
   "outputs": [
    {
     "name": "stdout",
     "output_type": "stream",
     "text": [
      "Requirement already satisfied: nltk in c:\\programdata\\anaconda3\\lib\\site-packages (3.2.4)\n",
      "Requirement already satisfied: six in c:\\programdata\\anaconda3\\lib\\site-packages (from nltk) (1.11.0)\n"
     ]
    }
   ],
   "source": [
    "!pip install nltk"
   ]
  },
  {
   "cell_type": "code",
   "execution_count": 5,
   "metadata": {
    "collapsed": true
   },
   "outputs": [],
   "source": [
    "import nltk"
   ]
  }
 ],
 "metadata": {
  "kernelspec": {
   "display_name": "Python 3",
   "language": "python",
   "name": "python3"
  },
  "language_info": {
   "codemirror_mode": {
    "name": "ipython",
    "version": 3
   },
   "file_extension": ".py",
   "mimetype": "text/x-python",
   "name": "python",
   "nbconvert_exporter": "python",
   "pygments_lexer": "ipython3",
   "version": "3.6.3"
  }
 },
 "nbformat": 4,
 "nbformat_minor": 2
}
